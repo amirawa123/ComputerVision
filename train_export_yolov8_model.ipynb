{
 "cells": [
  {
   "cell_type": "code",
   "execution_count": null,
   "id": "5e27dd71-2b43-48bf-9f05-eba66c1afe50",
   "metadata": {},
   "outputs": [],
   "source": [
    "from ultralytics import YOLO\n",
    "\n",
    "# Load a pretrained model\n",
    "model = YOLO('yolov8n.pt')\n",
    "\n",
    "# Train the model\n",
    "results = model.train(data='data.yaml', epochs=230, imgsz=640, device=0)"
   ]
  },
  {
   "cell_type": "code",
   "execution_count": null,
   "id": "d5bf496c-65c0-4bc8-b076-e626ad5d87cf",
   "metadata": {},
   "outputs": [],
   "source": [
    "model = YOLO('runs/detect/train/weights/best.pt')\n",
    "\n",
    "# Validate the model\n",
    "metrics = model.val()\n",
    "metrics.box.map    # map50-95\n",
    "metrics.box.map50  # map50\n",
    "metrics.box.map75  # map75\n",
    "metrics.box.maps   # a list contains map50-95 of each category"
   ]
  },
  {
   "cell_type": "code",
   "execution_count": null,
   "id": "28af2e54-9d78-4da5-8fa7-137344fcfd3f",
   "metadata": {},
   "outputs": [],
   "source": [
    "# Prediction using trained model\n",
    "model.predict('test_images', save=True, imgsz=640, conf=0.2)"
   ]
  },
  {
   "cell_type": "code",
   "execution_count": null,
   "id": "2b5a828e",
   "metadata": {},
   "outputs": [],
   "source": [
    "# Export the model\n",
    "model.export(format='tflite')"
   ]
  },
  {
   "cell_type": "code",
   "execution_count": null,
   "id": "3c8172b4",
   "metadata": {},
   "outputs": [],
   "source": [
    "from ultralytics import YOLO\n",
    "import cv2\n",
    "import math \n",
    "\n",
    "model = YOLO('runs/detect/train/weights/best.pt')\n",
    "\n",
    "# start webcam\n",
    "cap = cv2.VideoCapture(0)\n",
    "cap.set(3, 640)\n",
    "cap.set(4, 480)\n",
    "classNames= ['10 Diamonds', '10 Hearts', '10 Spades', '10 Trefoils', '2 Diamonds', '2 Hearts', '2 Spades', '2 Trefoils', '3 Diamonds', '3 Hearts', '3 Spades', '3 Trefoils', '4 Diamonds', '4 Hearts', '4 Spades', '4 Trefoils', '5 Diamonds', '5 Hearts', '5 Spades', '5 Trefoils', '59', '6 Diamonds', '6 Hearts', '6 Spades', '6 Trefoils', '7 Diamonds', '7 Hearts', '7 Spades', '7 Trefoils', '8 Diamonds', '8 Hearts', '8 Spades', '8 Trefoils', '9 Diamonds', '9 Hearts', '9 Spades', '9 Trefoils', 'A Diamonds', 'A Hearts', 'A Spades', 'A Trefoils', 'J Diamonds', 'J Hearts', 'J Spades', 'J Trefoils', 'K Diamonds', 'K Hearts', 'K Spades', 'K Trefoils', 'Q Diamonds', 'Q Hearts', 'Q Spades', 'Q Trefoils']\n",
    "\n",
    "while True:\n",
    "    success, img = cap.read()\n",
    "    results = model(img, stream=True)\n",
    "\n",
    "    # coordinates\n",
    "    for r in results:\n",
    "        boxes = r.boxes\n",
    "\n",
    "        for box in boxes:\n",
    "            # bounding box\n",
    "            x1, y1, x2, y2 = box.xyxy[0]\n",
    "            x1, y1, x2, y2 = int(x1), int(y1), int(x2), int(y2)\n",
    "\n",
    "            # put box in cam\n",
    "            cv2.rectangle(img, (x1, y1), (x2, y2), (255, 0, 255), 3)\n",
    "\n",
    "            # confidence\n",
    "            confidence = math.ceil((box.conf[0]*100))/100\n",
    "            print(\"Confidence --->\",confidence)\n",
    "\n",
    "            # class name\n",
    "            cls = int(box.cls[0])\n",
    "            print(\"Class name -->\", classNames[cls])\n",
    "\n",
    "            # object details\n",
    "            org = [x1, y1]\n",
    "            font = cv2.FONT_HERSHEY_SIMPLEX\n",
    "            fontScale = 1\n",
    "            color = (255, 0, 0)\n",
    "            thickness = 2\n",
    "\n",
    "            cv2.putText(img, classNames[cls], org, font, fontScale, color, thickness)\n",
    "\n",
    "    cv2.imshow('Webcam',img)\n",
    "    if cv2.waitKey(1) == ord('q'):\n",
    "        break\n",
    "\n",
    "cap.release()\n",
    "cv2.destroyAllWindows()"
   ]
  }
 ],
 "metadata": {
  "kernelspec": {
   "display_name": "Python 3 (ipykernel)",
   "language": "python",
   "name": "python3"
  },
  "language_info": {
   "codemirror_mode": {
    "name": "ipython",
    "version": 3
   },
   "file_extension": ".py",
   "mimetype": "text/x-python",
   "name": "python",
   "nbconvert_exporter": "python",
   "pygments_lexer": "ipython3",
   "version": "3.11.8"
  }
 },
 "nbformat": 4,
 "nbformat_minor": 5
}
